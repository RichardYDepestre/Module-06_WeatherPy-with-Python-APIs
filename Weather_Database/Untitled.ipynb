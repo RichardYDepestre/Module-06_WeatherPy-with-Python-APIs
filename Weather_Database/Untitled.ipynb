{
 "cells": [
  {
   "cell_type": "code",
   "execution_count": 3,
   "id": "global-president",
   "metadata": {},
   "outputs": [],
   "source": [
    "def get_latitudes(x, y, size):\n",
    "    latitudes = list()\n",
    "    latitudes = [\n",
    "        np.random.uniform(x, y) + np.random.random()\n",
    "        for x in np.arange(start=0, stop=int(size), step=1)\n",
    "    ]\n",
    "\n",
    "    return latitudes\n",
    "\n",
    "\n",
    "#\n",
    "from citipy import citipy\n",
    "#%run functions.ipynb\n",
    "# container\n",
    "cities = list()\n",
    "\n",
    "\n",
    "def get_nearest_city(low, high, size):\n",
    "    # Create a practice set of random latitude and longitude combinations.\n",
    "    longs = get_latitudes(-low * 2, high * 2, size)\n",
    "    lats = get_latitudes(low, high, size)\n",
    "    coordinates = zip(lats, longs)\n",
    "    coordinates_list = list(coordinates)\n",
    "    coordinates\n",
    "\n",
    "    for coordinate in coordinates_list:\n",
    "        city = citipy.nearest_city(coordinate[0], coordinate[1]).city_name\n",
    "        if city not in cities:\n",
    "            cities.append(city)\n",
    "\n",
    "    return cities"
   ]
  },
  {
   "cell_type": "code",
   "execution_count": 4,
   "id": "statutory-breakfast",
   "metadata": {},
   "outputs": [],
   "source": [
    "from datetime import datetime\n",
    "from config import *\n",
    "import numpy as np\n",
    "\n",
    "city_data = list()\n",
    "\n",
    "def get_weather_by_city(cities):\n",
    "    # data hold\n",
    "\n",
    "    # logging starts.\n",
    "    print(\"-----------------------------\")\n",
    "    print(\"Beginning Data Retrieval     \")\n",
    "    print(\"-----------------------------\")\n",
    "    #\n",
    "    # set counters.\n",
    "    set_count = 1\n",
    "    record_count = 0\n",
    "    #\n",
    "#     for i, lati, longi in enumerate(coordinates)\n",
    "    for i, city in enumerate(cities):\n",
    "        #     group cities by sets 50\n",
    "        if (i % 50 == 0 and i >= 50):\n",
    "            set_count += 1\n",
    "            record_count = 1\n",
    "\n",
    "        # deal with city with spaces in names\n",
    "#         search_criterion = \"q=\" + cities[i].replace(\" \", \"+\")\n",
    "        search_criterion = \"q=\" + \\\n",
    "            cities[i].replace(\" \", \"+\")+\"&APPID=\"+weather_api_key\n",
    "        # create endpoint url for each city\n",
    "#         city_url = \"http://api.openweathermap.org/data/2.5/weather?lat={lati}&lon={longi}&appid={weather_api_key}\"\n",
    "        city_url = \"http://api.openweathermap.org/data/2.5/weather?\" + search_criterion\n",
    "\n",
    "        # Log the URL, record, and set numbers and the city.\n",
    "#         print(city_url)\n",
    "\n",
    "        print(f\"Processing Record {record_count} of Set {set_count} | {city}\")\n",
    "        # increment record count.\n",
    "        record_count += 1\n",
    "\n",
    "        # Run an API request for each of the cities.\n",
    "        try:\n",
    "            # Parse the JSON and retrieve data.\n",
    "            city_weather = requests.get(city_url).json()\n",
    "            # Parse out the needed data.\n",
    "            city_lat = city_weather[\"coord\"][\"lat\"]\n",
    "            city_lng = city_weather[\"coord\"][\"lon\"]\n",
    "            city_max_temp = city_weather[\"main\"][\"temp_max\"]\n",
    "            city_humidity = city_weather[\"main\"][\"humidity\"]\n",
    "            city_clouds = city_weather[\"clouds\"][\"all\"]\n",
    "            city_wind = city_weather[\"wind\"][\"speed\"]\n",
    "            city_country = city_weather[\"sys\"][\"country\"]\n",
    "            # Convert the date to ISO standard.\n",
    "            city_date = datetime.utcfromtimestamp(\n",
    "                city_weather[\"dt\"]).strftime('%Y-%m-%d %H:%M:%S')\n",
    "            # Append the city information into city_data list.\n",
    "            #print(city.title())\n",
    "            city_data.append({\n",
    "                \"City\": city.title(),\n",
    "                \"Lat\": city_lat,\n",
    "                \"Lng\": city_lng,\n",
    "                \"Max Temp\": city_max_temp,\n",
    "                \"Humidity\": city_humidity,\n",
    "                \"Cloudiness\": city_clouds,\n",
    "                \"Wind Speed\": city_wind,\n",
    "                \"Country\": city_country,\n",
    "                \"Date\": city_date\n",
    "            })\n",
    "\n",
    "    # If an error is experienced, skip the city.\n",
    "        except:\n",
    "            print(\"City not found. Skipping...\")\n",
    "            pass\n",
    "\n",
    "    # Indicate that Data Loading is complete.\n",
    "    print(\"-----------------------------\")\n",
    "    print(\"Data Retrieval Complete      \")\n",
    "    print(\"-----------------------------\")\n",
    "    return city_data"
   ]
  },
  {
   "cell_type": "code",
   "execution_count": 5,
   "id": "chronic-banner",
   "metadata": {},
   "outputs": [
    {
     "output_type": "stream",
     "name": "stdout",
     "text": [
      "-----------------------------\nBeginning Data Retrieval     \n-----------------------------\nProcessing Record 0 of Set 1 | bako\nCity not found. Skipping...\nProcessing Record 1 of Set 1 | barentsburg\nCity not found. Skipping...\nProcessing Record 2 of Set 1 | zolotinka\nCity not found. Skipping...\nProcessing Record 3 of Set 1 | tiksi\nCity not found. Skipping...\nProcessing Record 4 of Set 1 | leh\nCity not found. Skipping...\n-----------------------------\nData Retrieval Complete      \n-----------------------------\n"
     ]
    },
    {
     "output_type": "execute_result",
     "data": {
      "text/plain": [
       "[]"
      ]
     },
     "metadata": {},
     "execution_count": 5
    }
   ],
   "source": [
    "cities = get_nearest_city(-80.000, 80.000, 5)\n",
    "cities\n",
    "\n",
    "import pandas as pd\n",
    "city_weather_data = get_weather_by_city(cities)\n",
    "city_weather_data\n",
    "# city_data_df = pd.DataFrame(get_weather_by_city(cities))\n",
    "# city_data_df.head()"
   ]
  },
  {
   "cell_type": "code",
   "execution_count": 6,
   "id": "interracial-letters",
   "metadata": {},
   "outputs": [
    {
     "output_type": "stream",
     "name": "stdout",
     "text": [
      "-----------------------------\nBeginning Data Retrieval     \n-----------------------------\nProcessing Record 0 of Set 1 | bako\nCity not found. Skipping...\nProcessing Record 1 of Set 1 | barentsburg\nCity not found. Skipping...\nProcessing Record 2 of Set 1 | zolotinka\nCity not found. Skipping...\nProcessing Record 3 of Set 1 | tiksi\nCity not found. Skipping...\nProcessing Record 4 of Set 1 | leh\nCity not found. Skipping...\n-----------------------------\nData Retrieval Complete      \n-----------------------------\n"
     ]
    },
    {
     "output_type": "execute_result",
     "data": {
      "text/plain": [
       "Empty DataFrame\n",
       "Columns: []\n",
       "Index: []"
      ],
      "text/html": "<div>\n<style scoped>\n    .dataframe tbody tr th:only-of-type {\n        vertical-align: middle;\n    }\n\n    .dataframe tbody tr th {\n        vertical-align: top;\n    }\n\n    .dataframe thead th {\n        text-align: right;\n    }\n</style>\n<table border=\"1\" class=\"dataframe\">\n  <thead>\n    <tr style=\"text-align: right;\">\n      <th></th>\n    </tr>\n  </thead>\n  <tbody>\n  </tbody>\n</table>\n</div>"
     },
     "metadata": {},
     "execution_count": 6
    }
   ],
   "source": [
    "import pandas as pd\n",
    "city_data_df = pd.DataFrame(get_weather_by_city(cities))\n",
    "city_data_df.head()"
   ]
  },
  {
   "cell_type": "code",
   "execution_count": 66,
   "id": "worthy-tomato",
   "metadata": {},
   "outputs": [
    {
     "data": {
      "text/plain": [
       "['erzin', 'sentyabrskiy', 'jiayuguan', 'zabid', 'boli']"
      ]
     },
     "execution_count": 66,
     "metadata": {},
     "output_type": "execute_result"
    }
   ],
   "source": [
    "cities"
   ]
  },
  {
   "cell_type": "code",
   "execution_count": null,
   "id": "acceptable-mailing",
   "metadata": {},
   "outputs": [],
   "source": []
  }
 ],
 "metadata": {
  "kernelspec": {
   "display_name": "PythonData",
   "language": "python",
   "name": "pythondata"
  },
  "language_info": {
   "codemirror_mode": {
    "name": "ipython",
    "version": 3
   },
   "file_extension": ".py",
   "mimetype": "text/x-python",
   "name": "python",
   "nbconvert_exporter": "python",
   "pygments_lexer": "ipython3",
   "version": "3.8.5-final"
  },
  "toc": {
   "base_numbering": 1,
   "nav_menu": {},
   "number_sections": true,
   "sideBar": true,
   "skip_h1_title": false,
   "title_cell": "Table of Contents",
   "title_sidebar": "Contents",
   "toc_cell": false,
   "toc_position": {},
   "toc_section_display": true,
   "toc_window_display": false
  },
  "varInspector": {
   "cols": {
    "lenName": 16,
    "lenType": 16,
    "lenVar": 40
   },
   "kernels_config": {
    "python": {
     "delete_cmd_postfix": "",
     "delete_cmd_prefix": "del ",
     "library": "var_list.py",
     "varRefreshCmd": "print(var_dic_list())"
    },
    "r": {
     "delete_cmd_postfix": ") ",
     "delete_cmd_prefix": "rm(",
     "library": "var_list.r",
     "varRefreshCmd": "cat(var_dic_list()) "
    }
   },
   "types_to_exclude": [
    "module",
    "function",
    "builtin_function_or_method",
    "instance",
    "_Feature"
   ],
   "window_display": false
  }
 },
 "nbformat": 4,
 "nbformat_minor": 5
}