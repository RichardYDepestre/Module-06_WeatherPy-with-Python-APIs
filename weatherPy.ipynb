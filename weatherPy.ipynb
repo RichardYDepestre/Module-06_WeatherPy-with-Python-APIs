{
 "cells": [
  {
   "cell_type": "code",
   "execution_count": 1,
   "id": "banner-foundation",
   "metadata": {},
   "outputs": [],
   "source": [
    "# dependencies\n",
    "import numpy as np\n",
    "import matplotlib as plt\n",
    "import pandas as pd\n",
    "%timeit\n",
    "import random\n",
    "import requests  #requests library\n",
    "#\n",
    "%run functions.ipynb\n",
    "from config import *"
   ]
  },
  {
   "cell_type": "code",
   "execution_count": 2,
   "id": "funky-monaco",
   "metadata": {},
   "outputs": [],
   "source": [
    "# create endpoint\n",
    "search_criterion = \"&q=Boston\"\n",
    "city_url = \"http://api.openweathermap.org/data/2.5/weather?units=Imperial&APPID=\" + weather_api_key + search_criterion\n",
    "# print(city_url)"
   ]
  },
  {
   "cell_type": "code",
   "execution_count": 3,
   "id": "twenty-lawyer",
   "metadata": {},
   "outputs": [
    {
     "output_type": "stream",
     "name": "stdout",
     "text": [
      "status code: 200\n\ncity weather in text format:\n{\"coord\":{\"lon\":-71.0598,\"lat\":42.3584},\"weather\":[{\"id\":804,\"main\":\"Clouds\",\"description\":\"overcast clouds\",\"icon\":\"04n\"}],\"base\":\"stations\",\"main\":{\"temp\":57.67,\"feels_like\":52.05,\"temp_min\":51.01,\"temp_max\":62.6,\"pressure\":1016,\"humidity\":77},\"visibility\":5883,\"wind\":{\"speed\":10.36,\"deg\":170},\"clouds\":{\"all\":88},\"dt\":1616716501,\"sys\":{\"type\":1,\"id\":4967,\"country\":\"US\",\"sunrise\":1616668701,\"sunset\":1616713304},\"timezone\":-14400,\"id\":4930956,\"name\":\"Boston\",\"cod\":200}\n\ncity weather in json format:\n{'coord': {'lon': -71.0598, 'lat': 42.3584}, 'weather': [{'id': 804, 'main': 'Clouds', 'description': 'overcast clouds', 'icon': '04n'}], 'base': 'stations', 'main': {'temp': 57.67, 'feels_like': 52.05, 'temp_min': 51.01, 'temp_max': 62.6, 'pressure': 1016, 'humidity': 77}, 'visibility': 5883, 'wind': {'speed': 10.36, 'deg': 170}, 'clouds': {'all': 88}, 'dt': 1616716501, 'sys': {'type': 1, 'id': 4967, 'country': 'US', 'sunrise': 1616668701, 'sunset': 1616713304}, 'timezone': -14400, 'id': 4930956, 'name': 'Boston', 'cod': 200}\n"
     ]
    }
   ],
   "source": [
    "city_weather = requests.get(city_url)\n",
    "if city_weather.status_code == 200:\n",
    "    print(f\"status code: {city_weather.status_code}\")\n",
    "    print(f\"\\ncity weather in text format:\\n{city_weather.text}\")\n",
    "    print(f\"\\ncity weather in json format:\\n{city_weather.json()}\")\n"
   ]
  },
  {
   "cell_type": "code",
   "execution_count": 4,
   "id": "subject-intermediate",
   "metadata": {},
   "outputs": [
    {
     "output_type": "stream",
     "name": "stdout",
     "text": [
      "42.3584\n804\n"
     ]
    }
   ],
   "source": [
    "boston_data = city_weather.json()\n",
    "boston_lat=boston_data[\"coord\"][\"lat\"]\n",
    "print(boston_lat)\n",
    "boston_temp=boston_data[\"weather\"][0][\"id\"]\n",
    "print(boston_temp)\n",
    "# keep\n",
    "# dict = {}\n",
    "# dict = [(k, v) for (k, v) in boston_data.items()]\n",
    "# dict\n",
    "# [print(f\"\\n{k} {str(v)}\") for (k, v) in boston_data.items()]"
   ]
  },
  {
   "cell_type": "code",
   "execution_count": 5,
   "id": "buried-birmingham",
   "metadata": {},
   "outputs": [
    {
     "output_type": "execute_result",
     "data": {
      "text/plain": [
       "62.6"
      ]
     },
     "metadata": {},
     "execution_count": 5
    }
   ],
   "source": [
    "boston_max_temp = boston_data[\"main\"][\"temp_max\"]\n",
    "boston_max_temp"
   ]
  },
  {
   "cell_type": "code",
   "execution_count": 6,
   "id": "adjusted-count",
   "metadata": {},
   "outputs": [
    {
     "output_type": "stream",
     "name": "stdout",
     "text": [
      "latitude:\t\t42.3584 , longitude:\t-71.0598\nmax temperature:\t62.6\t, humidity:\t77\nsky:\t\t\t88\t, wind factor:\t10.36\n"
     ]
    }
   ],
   "source": [
    "# get attributes of the city of boston\n",
    "lat = boston_data[\"coord\"][\"lat\"]\n",
    "lng = boston_data[\"coord\"][\"lon\"]\n",
    "max_temp = boston_data[\"main\"][\"temp_max\"]\n",
    "humidity = boston_data[\"main\"][\"humidity\"]\n",
    "clouds = boston_data[\"clouds\"][\"all\"]\n",
    "wind = boston_data[\"wind\"][\"speed\"]\n",
    "\n",
    "print(f\"latitude:\\t\\t{lat} , longitude:\\t{lng}\\nmax temperature:\\t{max_temp}\\t, humidity:\\t{humidity}\\nsky:\\t\\t\\t{clouds}\\t, wind factor:\\t{wind}\")"
   ]
  },
  {
   "cell_type": "code",
   "execution_count": 7,
   "id": "manual-revelation",
   "metadata": {},
   "outputs": [
    {
     "output_type": "stream",
     "name": "stdout",
     "text": [
      "1616716501\n"
     ]
    },
    {
     "output_type": "execute_result",
     "data": {
      "text/plain": [
       "'2021-03-25 23:55:01'"
      ]
     },
     "metadata": {},
     "execution_count": 7
    }
   ],
   "source": [
    "# convert timestamp\n",
    "from datetime import datetime\n",
    "# get the date\n",
    "raw_date = boston_data[\"dt\"]\n",
    "print(raw_date)\n",
    "date = datetime.utcfromtimestamp(raw_date)\n",
    "date.strftime(\"%Y-%m-%d %H:%M:%S\")"
   ]
  }
 ],
 "metadata": {
  "kernelspec": {
   "display_name": "Python 3",
   "language": "python",
   "name": "python3"
  },
  "language_info": {
   "codemirror_mode": {
    "name": "ipython",
    "version": 3
   },
   "file_extension": ".py",
   "mimetype": "text/x-python",
   "name": "python",
   "nbconvert_exporter": "python",
   "pygments_lexer": "ipython3",
   "version": "3.9.2-final"
  },
  "toc": {
   "base_numbering": 1,
   "nav_menu": {},
   "number_sections": true,
   "sideBar": true,
   "skip_h1_title": false,
   "title_cell": "Table of Contents",
   "title_sidebar": "Contents",
   "toc_cell": false,
   "toc_position": {},
   "toc_section_display": true,
   "toc_window_display": false
  },
  "varInspector": {
   "cols": {
    "lenName": 16,
    "lenType": 16,
    "lenVar": 40
   },
   "kernels_config": {
    "python": {
     "delete_cmd_postfix": "",
     "delete_cmd_prefix": "del ",
     "library": "var_list.py",
     "varRefreshCmd": "print(var_dic_list())"
    },
    "r": {
     "delete_cmd_postfix": ") ",
     "delete_cmd_prefix": "rm(",
     "library": "var_list.r",
     "varRefreshCmd": "cat(var_dic_list()) "
    }
   },
   "types_to_exclude": [
    "module",
    "function",
    "builtin_function_or_method",
    "instance",
    "_Feature"
   ],
   "window_display": false
  }
 },
 "nbformat": 4,
 "nbformat_minor": 5
}