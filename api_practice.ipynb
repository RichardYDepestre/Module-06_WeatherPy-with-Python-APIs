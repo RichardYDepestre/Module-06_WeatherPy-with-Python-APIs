{
 "cells": [
  {
   "cell_type": "code",
   "execution_count": 18,
   "id": "changed-youth",
   "metadata": {},
   "outputs": [],
   "source": [
    "from citipy import citipy\n",
    "%run functions.ipynb\n",
    "# container\n",
    "cities = list()\n",
    "\n",
    "def get_nearest_city(low, high, size):\n",
    "# Create a practice set of random latitude and longitude combinations.\n",
    "    longs = get_latitudes(-low * 2, high * 2, size)\n",
    "    lats = get_latitudes(low, high, size)\n",
    "    coordinates = zip(lats, longs)\n",
    "    coordinates_list = list(coordinates)\n",
    "    coordinates\n",
    "    \n",
    "    for coordinate in coordinates_list:\n",
    "        city = citipy.nearest_city(coordinate[0], coordinate[1]).city_name \n",
    "        if city not in cities:\n",
    "               cities.append(city)\n",
    "\n",
    "    return cities"
   ]
  },
  {
   "cell_type": "code",
   "execution_count": 19,
   "id": "talented-vermont",
   "metadata": {},
   "outputs": [
    {
     "output_type": "stream",
     "name": "stdout",
     "text": [
      "46\n"
     ]
    },
    {
     "output_type": "execute_result",
     "data": {
      "text/plain": [
       "['illela',\n",
       " 'kyabe',\n",
       " 'buzmeyin',\n",
       " 'sangar',\n",
       " 'butaritari',\n",
       " 'dikson',\n",
       " 'banmo',\n",
       " 'tiksi',\n",
       " 'pafos',\n",
       " 'ravar',\n",
       " 'tigil',\n",
       " 'amderma',\n",
       " 'ostrovnoy',\n",
       " 'abu samrah',\n",
       " 'khatanga',\n",
       " 'chokurdakh',\n",
       " 'makarov',\n",
       " 'nikolskoye',\n",
       " 'harbin',\n",
       " 'kanth',\n",
       " 'pevek',\n",
       " 'yatou',\n",
       " 'deputatskiy',\n",
       " 'ola',\n",
       " 'loukhi',\n",
       " 'berlevag',\n",
       " 'baruun-urt',\n",
       " 'esik',\n",
       " 'zhangjiakou',\n",
       " 'vagay',\n",
       " 'kamenskoye',\n",
       " 'dongsheng',\n",
       " 'korla',\n",
       " 'ust-barguzin',\n",
       " 'saskylakh',\n",
       " 'nyurba',\n",
       " 'komsomolskiy',\n",
       " 'nizhneyansk',\n",
       " 'cherskiy',\n",
       " 'arman',\n",
       " 'verkhnyaya inta',\n",
       " 'yar-sale',\n",
       " 'kizilskoye',\n",
       " 'anadyr',\n",
       " 'leningradskiy',\n",
       " 'beringovskiy']"
      ]
     },
     "metadata": {},
     "execution_count": 19
    }
   ],
   "source": [
    "# cities = get_nearest_city(-90.000, 90.000, 1500)\n",
    "# print (len(cities))\n",
    "# cities"
   ]
  },
  {
   "cell_type": "code",
   "execution_count": null,
   "metadata": {},
   "outputs": [],
   "source": []
  }
 ],
 "metadata": {
  "kernelspec": {
   "display_name": "Python 3",
   "language": "python",
   "name": "python3"
  },
  "language_info": {
   "codemirror_mode": {
    "name": "ipython",
    "version": 3
   },
   "file_extension": ".py",
   "mimetype": "text/x-python",
   "name": "python",
   "nbconvert_exporter": "python",
   "pygments_lexer": "ipython3",
   "version": "3.9.2-final"
  },
  "toc": {
   "base_numbering": 1,
   "nav_menu": {},
   "number_sections": true,
   "sideBar": true,
   "skip_h1_title": false,
   "title_cell": "Table of Contents",
   "title_sidebar": "Contents",
   "toc_cell": false,
   "toc_position": {},
   "toc_section_display": true,
   "toc_window_display": false
  },
  "varInspector": {
   "cols": {
    "lenName": 16,
    "lenType": 16,
    "lenVar": 40
   },
   "kernels_config": {
    "python": {
     "delete_cmd_postfix": "",
     "delete_cmd_prefix": "del ",
     "library": "var_list.py",
     "varRefreshCmd": "print(var_dic_list())"
    },
    "r": {
     "delete_cmd_postfix": ") ",
     "delete_cmd_prefix": "rm(",
     "library": "var_list.r",
     "varRefreshCmd": "cat(var_dic_list()) "
    }
   },
   "types_to_exclude": [
    "module",
    "function",
    "builtin_function_or_method",
    "instance",
    "_Feature"
   ],
   "window_display": false
  }
 },
 "nbformat": 4,
 "nbformat_minor": 5
}